{
 "cells": [
  {
   "cell_type": "markdown",
   "metadata": {},
   "source": [
    "# Graph Environment Experiments (2)"
   ]
  },
  {
   "cell_type": "code",
   "execution_count": 1,
   "metadata": {},
   "outputs": [],
   "source": [
    "from neuronav.envs.graph_env import GraphEnv, GraphObsType\n",
    "from neuronav.envs.graph_structures import GraphStructure\n",
    "from neuronav.agents.td_agents import TDSR, TDQ\n",
    "from neuronav.agents.dyna_agents import DynaQ, DynaSR\n",
    "from neuronav.agents.mb_agents import MBV, SRMB\n",
    "from neuronav.utils import softmax, run_episode\n",
    "\n",
    "import matplotlib.pyplot as plt\n",
    "import numpy as np"
   ]
  },
  {
   "cell_type": "code",
   "execution_count": 2,
   "metadata": {},
   "outputs": [],
   "source": [
    "def gen_init_prefs(env, agents, num_eps, num_steps):\n",
    "    init_state_prefs = []\n",
    "    for agent in agents:\n",
    "        for i in range(num_eps):\n",
    "            agent, _ = run_episode(env, agent, num_steps, 0)\n",
    "        Qs = agent.Q[:, 0]\n",
    "        max_Q_idx = np.argmax(Qs)\n",
    "        init_state_prefs.append((agent.__class__.__name__, max_Q_idx, Qs))\n",
    "    return init_state_prefs\n",
    "\n",
    "def calc_revaluation(prefs_a, prefs_b):\n",
    "    scores = []\n",
    "    temp = 5\n",
    "    for idx, pref in enumerate(prefs_a):\n",
    "        a = softmax(pref[2] / temp)\n",
    "        b = softmax(prefs_b[idx][2] / temp)\n",
    "        score = np.abs(a - b)[0]\n",
    "        scores.append(score)\n",
    "    return scores\n",
    "\n",
    "def plot_revaluation(scores):\n",
    "    scores_mean = np.mean(scores, axis=0)\n",
    "    scores_std = np.std(scores, axis=0)\n",
    "    plt.axis([-1, len(scores[0]), 0, 1])\n",
    "    plt.bar([name for name in agent_type_names], scores_mean, yerr=scores_std)\n",
    "\n",
    "def init_agents(env, agent_types):\n",
    "    agents = [agent_type(env.state_size, env.action_space.n, gamma=0.9, lr=1e-1, poltype=\"softmax\", epsilon=0.01, beta=1e-3) for agent_type in agent_types]\n",
    "    return agents"
   ]
  },
  {
   "cell_type": "code",
   "execution_count": 3,
   "metadata": {},
   "outputs": [],
   "source": [
    "def get_scores(condition_func):\n",
    "    all_scores = []\n",
    "    for _ in range(num_reps):\n",
    "        all_scores.append(condition_func())\n",
    "    all_scores = np.array(all_scores)\n",
    "    plot_revaluation(all_scores)\n",
    "    return all_scores\n",
    "\n",
    "def control_func():\n",
    "    env = GraphEnv(GraphStructure.human_b, obs_type=GraphObsType.index)\n",
    "    agents = init_agents(env, agent_types)\n",
    "    init_state_prefs = gen_init_prefs(env, agents, num_eps, num_steps)\n",
    "    control_state_prefs = gen_init_prefs(env, agents, num_eps, num_steps)\n",
    "    return calc_revaluation(init_state_prefs, control_state_prefs)\n",
    "\n",
    "def reward_func():\n",
    "    env = GraphEnv(GraphStructure.human_b, obs_type=GraphObsType.index)\n",
    "    agents = init_agents(env, agent_types)\n",
    "    init_state_prefs = gen_init_prefs(env, agents, num_eps, num_steps)\n",
    "\n",
    "    env.reward_nodes[3] = 45\n",
    "    env.reward_nodes[4] = 0\n",
    "    env.reward_nodes[5] = 30\n",
    "\n",
    "    rew_state_prefs = []\n",
    "    for agent in agents:\n",
    "        for i in range(num_eps):\n",
    "            start_state = np.random.randint(3, 6)\n",
    "            agent, _ = run_episode(env, agent, num_steps, start_state)\n",
    "            #agent.update_w((None, None, start_state, env.reward_nodes[start_state], None))\n",
    "        Qs = agent.Q[:, 0]\n",
    "        max_Q_idx = np.argmax(Qs)\n",
    "        rew_state_prefs.append((agent.__class__.__name__, max_Q_idx, Qs))\n",
    "\n",
    "    return calc_revaluation(init_state_prefs, rew_state_prefs)\n",
    "\n",
    "def transition_func():\n",
    "    env = GraphEnv(GraphStructure.human_b, obs_type=GraphObsType.index)\n",
    "    agents = init_agents(env, agent_types)\n",
    "    init_state_prefs = gen_init_prefs(env, agents, num_eps, num_steps)\n",
    "\n",
    "    env.edges[1] = [4, 5]\n",
    "    env.edges[2] = [3, 4]\n",
    "\n",
    "    trans_state_prefs = []\n",
    "    for agent in agents:\n",
    "        for i in range(num_eps):\n",
    "            start_state = np.random.randint(1, 3)\n",
    "            agent, _ = run_episode(env, agent, num_steps, start_state)\n",
    "        Qs = agent.Q[:, 0]\n",
    "        max_Q_idx = np.argmax(Qs)\n",
    "        trans_state_prefs.append((agent.__class__.__name__, max_Q_idx, Qs))\n",
    "\n",
    "    return calc_revaluation(init_state_prefs, trans_state_prefs)\n",
    "\n",
    "def policy_func():\n",
    "    env = GraphEnv(GraphStructure.human_b, obs_type=GraphObsType.index)\n",
    "    env.reward_nodes[3] = 0\n",
    "    env.reward_nodes[4] = 15\n",
    "    env.reward_nodes[5] = 30\n",
    "\n",
    "    agents = init_agents(env, agent_types)\n",
    "    init_state_prefs = gen_init_prefs(env, agents, num_eps, num_steps)\n",
    "\n",
    "    env.reward_nodes[3] = 45\n",
    "    env.reward_nodes[4] = 15\n",
    "    env.reward_nodes[5] = 30\n",
    "\n",
    "    policy_state_prefs = []\n",
    "    for agent in agents:\n",
    "        for i in range(num_eps):\n",
    "            start_state = np.random.randint(3, 6)\n",
    "            agent, _ = run_episode(env, agent, num_steps, start_state)\n",
    "            #agent.update_w((None, None, start_state, env.reward_nodes[start_state], None))\n",
    "        Qs = agent.Q[:, 0]\n",
    "        max_Q_idx = np.argmax(Qs)\n",
    "        policy_state_prefs.append((agent.__class__.__name__, max_Q_idx, Qs))\n",
    "    return calc_revaluation(init_state_prefs, policy_state_prefs)"
   ]
  },
  {
   "cell_type": "code",
   "execution_count": 4,
   "metadata": {},
   "outputs": [],
   "source": [
    "num_eps = 100\n",
    "num_steps = 2\n",
    "num_reps = 10\n",
    "\n",
    "agent_types = [TDSR, DynaSR, SRMB, MBV]\n",
    "agent_type_names = [\"TDSR\", \"DynaSR\", \"SRMB\", \"MBV\"]"
   ]
  },
  {
   "cell_type": "code",
   "execution_count": 5,
   "metadata": {},
   "outputs": [
    {
     "data": {
      "image/png": "[encoded data removed]",
      "text/plain": [
       "<Figure size 432x288 with 1 Axes>"
      ]
     },
     "metadata": {
      "needs_background": "light"
     },
     "output_type": "display_data"
    }
   ],
   "source": [
    "all_cs = get_scores(control_func)"
   ]
  },
  {
   "cell_type": "code",
   "execution_count": 6,
   "metadata": {},
   "outputs": [
    {
     "data": {
      "image/png": "[encoded data removed]",
      "text/plain": [
       "<Figure size 432x288 with 1 Axes>"
      ]
     },
     "metadata": {
      "needs_background": "light"
     },
     "output_type": "display_data"
    }
   ],
   "source": [
    "all_rs = get_scores(reward_func)"
   ]
  },
  {
   "cell_type": "code",
   "execution_count": 7,
   "metadata": {},
   "outputs": [
    {
     "data": {
      "image/png": "[encoded data removed]",
      "text/plain": [
       "<Figure size 432x288 with 1 Axes>"
      ]
     },
     "metadata": {
      "needs_background": "light"
     },
     "output_type": "display_data"
    }
   ],
   "source": [
    "all_ts = get_scores(transition_func)"
   ]
  },
  {
   "cell_type": "code",
   "execution_count": 8,
   "metadata": {},
   "outputs": [
    {
     "data": {
      "image/png": "[encoded data removed]",
      "text/plain": [
       "<Figure size 432x288 with 1 Axes>"
      ]
     },
     "metadata": {
      "needs_background": "light"
     },
     "output_type": "display_data"
    }
   ],
   "source": [
    "all_ps = get_scores(policy_func)"
   ]
  },
  {
   "cell_type": "code",
   "execution_count": 9,
   "metadata": {},
   "outputs": [
    {
     "data": {
      "image/png": "[encoded data removed]",
      "text/plain": [
       "<Figure size 432x288 with 1 Axes>"
      ]
     },
     "metadata": {
      "needs_background": "light"
     },
     "output_type": "display_data"
    },
    {
     "data": {
      "image/png": "[encoded data removed]",
      "text/plain": [
       "<Figure size 432x288 with 1 Axes>"
      ]
     },
     "metadata": {
      "needs_background": "light"
     },
     "output_type": "display_data"
    },
    {
     "data": {
      "image/png": "[encoded data removed]",
      "text/plain": [
       "<Figure size 432x288 with 1 Axes>"
      ]
     },
     "metadata": {
      "needs_background": "light"
     },
     "output_type": "display_data"
    },
    {
     "data": {
      "image/png": "[encoded data removed]",
      "text/plain": [
       "<Figure size 432x288 with 1 Axes>"
      ]
     },
     "metadata": {
      "needs_background": "light"
     },
     "output_type": "display_data"
    }
   ],
   "source": [
    "for i in range(len(agent_type_names)):\n",
    "    plt.bar([\"Control\", \"Reward\", \"Transition\", \"Policy\"], [np.mean(all_cs, axis=0)[i], np.mean(all_rs, axis=0)[i], np.mean(all_ts, axis=0)[i], np.mean(all_ps, axis=0)[i]], yerr=[np.std(all_cs, axis=0)[i], np.std(all_rs, axis=0)[i], np.std(all_ts, axis=0)[i], np.std(all_ps, axis=0)[i]])\n",
    "    plt.axis([-1, 4, 0, 1])\n",
    "    plt.title(agent_type_names[i])\n",
    "    plt.show()"
   ]
  }
 ],
 "metadata": {
  "interpreter": {
   "hash": "78f961cc1adb1d23b163d13487a7bbea047622fac31372ac86f89c77664d2955"
  },
  "kernelspec": {
   "display_name": "Python 3.8.7 64-bit ('3.8.7': pyenv)",
   "language": "python",
   "name": "python3"
  },
  "language_info": {
   "codemirror_mode": {
    "name": "ipython",
    "version": 3
   },
   "file_extension": ".py",
   "mimetype": "text/x-python",
   "name": "python",
   "nbconvert_exporter": "python",
   "pygments_lexer": "ipython3",
   "version": "3.8.7"
  },
  "orig_nbformat": 4
 },
 "nbformat": 4,
 "nbformat_minor": 2
}
